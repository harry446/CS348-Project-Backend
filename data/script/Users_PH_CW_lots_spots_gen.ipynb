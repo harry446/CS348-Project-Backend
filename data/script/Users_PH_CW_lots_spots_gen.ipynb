{
 "cells": [
  {
   "cell_type": "code",
   "execution_count": 1,
   "id": "c64cb1fb-8a9b-4b0d-9e92-61c315d4408f",
   "metadata": {},
   "outputs": [],
   "source": [
    "import random\n",
    "import string\n",
    "import faker\n",
    "import math\n",
    "import pandas as pd\n",
    "import numpy as np\n",
    "from datetime import datetime, timedelta\n",
    "random.seed(348)"
   ]
  },
  {
   "cell_type": "markdown",
   "id": "e349e896-294c-43aa-ae33-7bf3bde9bebb",
   "metadata": {},
   "source": [
    "This file aims to generate the dataset in use of the parking lots management database. There are 5 tables to be generated:\n",
    "\n",
    "- User\n",
    "- Permit_Holder\n",
    "- Lot\n",
    "- Spot\n",
    "- Booking"
   ]
  },
  {
   "cell_type": "markdown",
   "id": "d5453195-dee5-4699-b836-fffbf7d9fa2b",
   "metadata": {},
   "source": [
    "## User\n",
    "\n",
    "- <u>`uid`</u> (NOT NULL): uniquely identifies a user; no modifications from users allowed; no default value\n",
    "- `username` (NOT NULL): randomly generated username; allows users to modify by themselves; no default value\n",
    "- `password` (NOT NULL): randomly generated password; allows users to modify by themselves; no default value\n",
    "- `identity` (NOT NULL): any of {\"student\", \"staff\", \"visitor\", \"admin\"}; no modifications from users allowed; max 5 admin users; no default value\n",
    "- `email` (NOT NULL): randomly generated email; allows users to modify by themselves; no default value\n",
    "- `phone`: randomly generated 10-digit phone number; allows users to modify by themselves; default value: `NULL`\n",
    "- `booking_num` (NOT NULL): number of current bookings; no modifications from users allowed; default value: 0"
   ]
  },
  {
   "cell_type": "markdown",
   "id": "be16d5b4-e544-437f-ae08-88cdfef0b961",
   "metadata": {},
   "source": [
    "### Helper functions"
   ]
  },
  {
   "cell_type": "code",
   "execution_count": 2,
   "id": "1ff97c97-420a-42ca-85a3-7ebefa3b0b78",
   "metadata": {},
   "outputs": [],
   "source": [
    "# To generate a list of random strings\n",
    "def generate_rand_str_lst(iterable, weights=-1, num = 10, min_length = 8, max_length = 16):\n",
    "    lst = []\n",
    "    # Determine weights\n",
    "    if weights == -1:\n",
    "        p_count = len(iterable)\n",
    "        weights = [1 / p_count for _ in range(p_count)] # equal probability of being selected\n",
    "    else: # if user-specified\n",
    "        weights = weights\n",
    "        \n",
    "    for _ in range(num):\n",
    "        length = random.randint(min_length, max_length)\n",
    "        p = ''.join(random.choices(population = iterable, weights = weights, k = length)) # To generate a random string of specific length and characters\n",
    "        lst.append(p)\n",
    "    return lst"
   ]
  },
  {
   "cell_type": "markdown",
   "id": "7d4cb627-efe6-42dc-a730-7a84f0f420f3",
   "metadata": {},
   "source": [
    "### Main functions"
   ]
  },
  {
   "cell_type": "code",
   "execution_count": 3,
   "id": "dac56803-be2d-43ba-b72c-4123dcaaa9d8",
   "metadata": {},
   "outputs": [],
   "source": [
    "# To generate a list of uid\n",
    "def generate_uid(num=10, iniId=1):\n",
    "    return [i + iniId for i in range(num)]\n",
    "\n",
    "# To generate a list of username\n",
    "def generate_username_lst(num = 10, \n",
    "                          iterable = string.ascii_letters + string.digits, \n",
    "                          weights = -1,\n",
    "                          min_length = 8, max_length = 12):\n",
    "    return generate_rand_str_lst(iterable, weights, num, min_length, max_length)\n",
    "\n",
    "def generate_unique_usernames(num):\n",
    "    fake = faker.Faker()\n",
    "    usernames = set()\n",
    "\n",
    "    while len(usernames) < num:\n",
    "        username = fake.user_name()\n",
    "        usernames.add(username)\n",
    "\n",
    "    return list(usernames)\n",
    "\n",
    "# To generate a list of password\n",
    "def generate_password_lst(num = 10, \n",
    "                          iterable = string.ascii_letters + string.digits + \"~`@#$%^&*_-+=:;'.\", \n",
    "                          weights = -1,\n",
    "                          min_length = 8, max_length = 16):\n",
    "    return generate_rand_str_lst(iterable, weights, num, min_length, max_length)\n",
    "\n",
    "# To generate a list of identity \n",
    "def generate_identity_lst(num = 10, types = [\"student\", \"staff\", \"visitor\"], weights = [0.4, 0.3, 0.3]):\n",
    "    admin_num = random.randint(1, 5) # at least 1 admin, at most 5 admins regardless of size of dataset\n",
    "    res = [\"admin\" for _ in range(admin_num)]\n",
    "    return res + random.choices(population = types, weights = weights, k = num - admin_num)\n",
    "\n",
    "# To generate a list of email\n",
    "def genrate_email_lst(num = 10, iterable = string.ascii_letters + string.digits, weights = -1,\n",
    "                      domains = [\"gmail.com\", \"uwaterloo.ca\", \"yahoo.com\", \"hotmail.com\", \"outlook.com\"],\n",
    "                      min_length = 8, max_length = 12):\n",
    "    prefix = generate_rand_str_lst(iterable, weights, num, min_length, max_length)\n",
    "    suffix = [random.choice(domains) for _ in range(num)]\n",
    "    return [f\"{prefix[i]}@{suffix[i]}\" for i in range(num)]\n",
    "\n",
    "# To generate a list of random 10-digit phone number as a string\n",
    "def generate_phone_number_lst(num = 10, null_probability = 0.2):\n",
    "    lst = []\n",
    "    for _ in range(num):\n",
    "        if random.random() <= null_probability: # random.random() generates a floating number 0 <= x <= 1.0\n",
    "            lst.append(None)  # append None to represent NULL in the database\n",
    "        else:\n",
    "            lst.append(str(random.randint(1000000000, 9999999999)))  # generate a random 10-digit phone number as a string\n",
    "    return lst\n",
    "\n",
    "# To generate a list of booking_num\n",
    "def generate_booking_num_lst(num = 10, weights = [0.6, 0.2, 0.1, 0.1]):\n",
    "    return random.choices(population = [0, 1, 2, 3], weights = weights, k = num)\n",
    "\n",
    "# To generate data for user table\n",
    "def generate_users(num = 10):\n",
    "    fake = faker.Faker()\n",
    "    uids = generate_uid(num)\n",
    "    #usernames = generate_username_lst(num)\n",
    "    usernames = generate_unique_usernames(num)\n",
    "    passwords = generate_password_lst(num)\n",
    "    identities = generate_identity_lst(num)\n",
    "    emails = genrate_email_lst(num)\n",
    "    phonenums = generate_phone_number_lst(num)\n",
    "    booking_nums = generate_booking_num_lst(num)\n",
    "    accessible = random.choices(population = [True, False], weights = [0.1, 0.9], k = num)\n",
    "    return [(uids[i], usernames[i], passwords[i], emails[i], phonenums[i], identities[i], booking_nums[i], accessible[i]) for i in range(num)]"
   ]
  },
  {
   "cell_type": "markdown",
   "id": "8941082b-6b10-4c74-82a0-14cfb359dc60",
   "metadata": {},
   "source": [
    "# Lots (CW)"
   ]
  },
  {
   "cell_type": "markdown",
   "id": "86050c71-9a07-4187-b60f-30399e3811d2",
   "metadata": {},
   "source": [
    "- lid\n",
    "- area,\n",
    "- address,\n",
    "- lot_name,\n",
    "- capacity,\n",
    "- like_num"
   ]
  },
  {
   "cell_type": "raw",
   "id": "1b504ff6-7080-419e-a190-ed7971cdb6b9",
   "metadata": {},
   "source": [
    "lids = [, ]\n",
    "area = []\n",
    "adds = ['165 Weber St S', '170 Weber St S', '70 Bridgeport Rd E', \n",
    "        '2001 University Ave E', 'Woolwich St N', '2001 University Ave E',\n",
    "        '105 Oak Park Dr', '2220 University Ave E Suite 300', '550 King St N', \n",
    "        '550 King St N', '550 King St N', '550 King St N',\n",
    "        '555 Davenport Rd', '600 King St N', '611 Kumpf Dr',\n",
    "        '619 Kumpf Dr', '618 Kumpf Dr', '120 Randall Dr',\n",
    "        '660 Conservation Dr', '776 Laurelwood Dr', '600 Laurelwood Dr', \n",
    "        '851 Fischer-Hallman Rd', '335 Farmers Market Rd', '362 King St N',\n",
    "        '262 Weber St N', '272 Weber St N', '65 University Ave E', \n",
    "        '930 Erb St. W', '450 Columbia St W', '410 The Boardwalk',\n",
    "        '405 The Boardwalk', '415 The Boardwalk', '345 The Boardwalk', \n",
    "        'Westmount Place, 50 Westmount Rd N', '50 Westmount Rd N Unit B1', '400 Weber St N'\n",
    "       ]\n",
    "lnames = ['Forbes Motors Chevrolet Buick GMC', 'Carimex Auto Sales', 'Walmart Supercentre', \n",
    "          'Grey Silo Golf Club', 'Elam Martin Farmstead at RIM Park', 'RIM Park', \n",
    "          'Levetto Waterloo', 'Magnet Forensics', 'Conestoga Mall I', \n",
    "          'Conestoga Mall II', 'Conestoga Mall III', 'Galaxy Cinemas Waterloo',\n",
    "          'Zehrs Conestoga', 'The Home Depot', 'Waterloo Innovation Park',\n",
    "          'Majorel', 'Hostopia by Deluxe', 'Sienci Labs', \n",
    "          'Creekside Church', 'Reflections at Laurelwood', 'Food Basics',\n",
    "          'Food Basics', 'Walmart Supercentre', \"McDonald's\", \n",
    "          'Glenbriar Home Hardware', 'PartSource', \"Domino's Pizza\",  \n",
    "          'Costco Wholesale', 'Sobeys Columbia', 'Milestones', \n",
    "          'Movati Athletic', 'Landmark Cinemas Waterloo', 'RONA+ Waterloo West',\n",
    "          'Michaels', 'T&T Supermarket Waterloo Store', 'Canadian Tire'\n",
    "         ]\n",
    "capas = [150, 150, 200, \n",
    "         55, 40, 250, \n",
    "         25, 150, 50, \n",
    "         250, 250, 250,\n",
    "         250, 200, 300,\n",
    "         300, 300, 100,\n",
    "         150, 50, 250, \n",
    "         250, 250, 30, \n",
    "         100, 50, 50,\n",
    "         350, 80, 150,\n",
    "         60, 100, 200,\n",
    "         150, 100, 150,\n",
    "        ]\n",
    "like_num = [1020, 400, 123, \n",
    "            80, -2, 1200, \n",
    "            30, -3, 87, \n",
    "            547, 994, 1037, \n",
    "            362, 1032, 463,\n",
    "            463, 463, 24, \n",
    "            361, 2, 459, \n",
    "            561, 230, 1029,\n",
    "            123, 78, 1000, \n",
    "            5403, 401, 303,\n",
    "            123, 1037, 32,\n",
    "            1371, 2095, 1076,\n",
    "           ]"
   ]
  },
  {
   "cell_type": "code",
   "execution_count": 4,
   "id": "054ecd37-991f-4c35-a54e-b902773dee1c",
   "metadata": {},
   "outputs": [],
   "source": [
    "# First few rows are 2h-free\n",
    "\n",
    "# forth last row paid $1.5/h - max 24h\n",
    "# third last $2/h - max 3h\n",
    "# second last row paid $2.5/h - max 24h\n",
    "# last row paid $3/h - max 24h\n",
    "adds = [\n",
    "    '550 King St N','555 Davenport Rd', '600 King St N',\n",
    "    '45 Erb St W', '100 Regina St S', '70 Caroline St S', \n",
    "    '31 Caroline St N', '20 Regina St S', '82 Erb St',\n",
    "    '165 Weber St S', '170 Weber St S', '70 Bridgeport Rd E', \n",
    "    '550 King St N', '550 King St N', '550 King St N',\n",
    "    'Bloomingdale', '2001 University Ave E',\n",
    "    '410 The Boardwalk', \n",
    "    '35 Albert St', 'Woolwich St N',\n",
    "    '10 Wills Way'\n",
    "]\n",
    "lnames = [\n",
    "    'Galaxy Cinemas Waterloo','Zehrs Conestoga', 'The Home Depot',\n",
    "    'Waterloo Town Square (North)', 'City Centre Lot', 'Waterloo Town Square (South)',\n",
    "    'Perimeter Lot', 'Station Lot', 'Museum Lot',\n",
    "    'Forbes Motors Chevrolet Buick GMC', 'Carimex Auto Sales', 'Walmart Supercentre', \n",
    "    'Conestoga Mall I', 'Conestoga Mall II', 'Conestoga Mall III', \n",
    "    'Elam Martin Farmstead at RIM Park', 'RIM Park',\n",
    "    'Milestones', \n",
    "    'Library Lot', 'Grey Silo Golf Club',\n",
    "    'Uptown Parkade'\n",
    "]\n",
    "capas = [\n",
    "    250,250, 200,\n",
    "    40, 115, 200, \n",
    "    50, 50, 100,\n",
    "    150, 150, 300,\n",
    "    50, 250, 250,\n",
    "    50, 250, \n",
    "    150,\n",
    "    150, 55,\n",
    "    50\n",
    "]\n",
    "like_num = [\n",
    "    1037, 362, 1032,\n",
    "    0, 302, 407,\n",
    "    502, 103, 301,\n",
    "    1020, 400, 123, \n",
    "    87, 547, 994,\n",
    "    11, 1200,\n",
    "    303,\n",
    "    1310, 80,\n",
    "    289\n",
    "]\n",
    "lids = [i + 30 for i in range(len(lnames))]\n",
    "areas = ['CW' for i in range(len(lnames))]"
   ]
  },
  {
   "cell_type": "code",
   "execution_count": 5,
   "id": "fce15be5-3fd4-423b-897c-e4c2f3f394fe",
   "metadata": {},
   "outputs": [],
   "source": [
    "def generate_lots(lids, areas, adds, lnames, capas, like_num):\n",
    "    res = []\n",
    "    for i in range(len(lids)):\n",
    "        res.append((lids[i], areas[i], adds[i], lnames[i], capas[i], like_num[i]))\n",
    "    return res"
   ]
  },
  {
   "cell_type": "markdown",
   "id": "f1481fa0-8e3e-4870-8c03-4a17dc7f8a69",
   "metadata": {},
   "source": [
    "# Spots (CW)"
   ]
  },
  {
   "cell_type": "markdown",
   "id": "b4bb0260-cbeb-461d-be0f-4f4e721fa78c",
   "metadata": {},
   "source": [
    "- lid\n",
    "- sid\n",
    "- parking_type\n",
    "- latitude\n",
    "- longitude\n",
    "- max_stay\n",
    "- price"
   ]
  },
  {
   "cell_type": "code",
   "execution_count": 6,
   "id": "f66e80cc-b277-42a3-8b28-40897c745507",
   "metadata": {},
   "outputs": [],
   "source": [
    "# 4 points to highlight the lot on map\n",
    "lat_long = [\n",
    "    [(43.495766, -80.527780), (43.496095, -80.524909), (43.495160, -80.524826), (43.494998, -80.527072)],\n",
    "    [(43.498200, -80.524452), (43.497621, -80.525088), (43.496675, -80.524028), (43.497254, -80.523446)],\n",
    "    [(43.504435, -80.534556), (43.503771, -80.534935), (43.502976, -80.534281), (43.503401, -80.533365)],\n",
    "    [(43.464236, -80.523939), (43.464482, -80.523869), (43.464553, -80.523183), (43.464303, -80.523130)], \n",
    "    [(43.463883, -80.519793), (43.463668, -80.519393), (43.464509, -80.519100), (43.464380, -80.518615)],\n",
    "    [(43.461641, -80.522792), (43.461895, -80.522183), (43.462370, -80.523378), (43.462702, -80.522582)],\n",
    "    [(43.465385, -80.527146), (43.464997, -80.527137), (43.465387, -80.526506), (43.465015, -80.526736)],\n",
    "    [(43.465111, -80.520909), (43.464752, -80.520848), (43.464818, -80.520272), (43.465171, -80.520375)],\n",
    "    [(43.464394, -80.527087), (43.464319, -80.527242), (43.464034, -80.526859), (43.464177, -80.526343)],\n",
    "    [(43.463720, -80.504123), (43.462751, -80.503482), (43.463236, -80.502071), (43.463987, -80.503357)],\n",
    "    [(43.463751, -80.502495), (43.463373, -80.501864), (43.463529, -80.501426), (43.463967, -80.501893)],\n",
    "    [(43.470704, -80.514375), (43.469473, -80.516179), (43.469060, -80.515877), (43.470059, -80.513522)],\n",
    "    [(43.498743, -80.526403), (43.498259, -80.525038), (43.499426, -80.526362), (43.498553, -80.524529)],\n",
    "    [(43.500013, -80.528558), (43.500001, -80.528118), (43.498195, -80.529169), (43.498191, -80.528322)],\n",
    "    [(43.497366, -80.529019), (43.497347, -80.528327), (43.496078, -80.528810), (43.496024, -80.528322)],\n",
    "    [(43.517386, -80.494412), (43.517262, -80.494452), (43.516987, -80.493564), (43.517105, -80.493419)],\n",
    "    [(43.518255, -80.502704), (43.517849, -80.502452), (43.518092, -80.500494), (43.519164, -80.500566)],\n",
    "    [(43.439943, -80.565112), (43.439164, -80.564319), (43.439679, -80.563367), (43.440045, -80.563762)],\n",
    "    [(43.465812, -80.525633), (43.465384, -80.525451), (43.465544, -80.524928), (43.465953, -80.525266)],\n",
    "    [(43.517632, -80.493981), (43.517488, -80.494057), (43.516971, -80.492691), (43.517168, -80.492510)],\n",
    "    [(43.463665, -80.521261), (43.463293, -80.521191), (43.463339, -80.520806), (43.463719, -80.520892)],\n",
    "]"
   ]
  },
  {
   "cell_type": "code",
   "execution_count": 7,
   "id": "6f60cf60-074b-426c-a0b2-7715d3f781da",
   "metadata": {},
   "outputs": [],
   "source": [
    "# To export coordinates for highlighting lots in CW\n",
    "#df = pd.DataFrame(lat_long)\n",
    "#df.to_csv('CW_lot_coords.txt', index=False, header=False)"
   ]
  },
  {
   "cell_type": "code",
   "execution_count": 8,
   "id": "5cce5de5-41c3-4800-9cea-f67f8af9ca82",
   "metadata": {},
   "outputs": [],
   "source": [
    "# find ranges to generate long and lat for each spot\n",
    "def find_pair_range(lst):\n",
    "    latitudes = [lat for lat, lon in lst]\n",
    "    longitudes = [lon for lat, lon in lst]\n",
    "    \n",
    "    min_lat = min(latitudes)\n",
    "    max_lat = max(latitudes)\n",
    "    min_long = min(longitudes)\n",
    "    max_long = max(longitudes)\n",
    "    \n",
    "    return {\n",
    "        \"min_lat\": min_lat,\n",
    "        \"max_lat\": max_lat,\n",
    "        \"min_long\": min_long,\n",
    "        \"max_long\": max_long\n",
    "    }\n",
    "\n",
    "def find_all_ranges(lat_long_lst):\n",
    "    results = []\n",
    "    for lst in lat_long_lst:\n",
    "        results.append(find_pair_range(lst))\n",
    "    return results"
   ]
  },
  {
   "cell_type": "code",
   "execution_count": 9,
   "id": "93344b4e-8981-4d1e-929e-93e2dae85e13",
   "metadata": {},
   "outputs": [],
   "source": [
    "lid_s = []\n",
    "sid = []\n",
    "parking_type = []\n",
    "lat = []\n",
    "long = []\n",
    "max_stay = []\n",
    "price = []"
   ]
  },
  {
   "cell_type": "code",
   "execution_count": 10,
   "id": "d7c4f681-8693-46ed-8e9d-4ab968bf3e7a",
   "metadata": {},
   "outputs": [],
   "source": [
    "# generate lid and sid in spots table\n",
    "for i in range(len(lnames)):\n",
    "    for j in range(capas[i]):\n",
    "        lid_s.append(lids[i])\n",
    "        sid.append(j + 1)"
   ]
  },
  {
   "cell_type": "code",
   "execution_count": 11,
   "id": "759020b6-bcde-499c-a4b5-65c71c8376cb",
   "metadata": {},
   "outputs": [],
   "source": [
    "# generate lat and long for each spot\n",
    "all_ranges = find_all_ranges(lat_long)\n",
    "\n",
    "for i,r in enumerate(all_ranges):\n",
    "    for j in range(capas[i]):\n",
    "        lat.append(random.uniform(r['min_lat'], r['max_lat']))\n",
    "        long.append(random.uniform(r['min_long'], r['max_long']))"
   ]
  },
  {
   "cell_type": "code",
   "execution_count": 12,
   "id": "e710caa9-624a-46f9-9485-aae5539b6ad2",
   "metadata": {},
   "outputs": [],
   "source": [
    "# generate type and price for spots\n",
    "for i,c in enumerate(capas):\n",
    "    ac = math.floor(c * 0.1)\n",
    "    if i < 10:\n",
    "        weights = [1, 0]\n",
    "        prices = [0, 0]\n",
    "        maxs = [2, 2]\n",
    "    elif 10 <= i and i < 16:\n",
    "        weights = [0.3, 0.7]\n",
    "        prices = [0, 1.5]\n",
    "        maxs = [2, random.choices(population = [1.5, 2, 3, 4], weights = [0.1, 0.3, 0.5, 0.1], k = 1)[0]]\n",
    "    elif 16 <= i and i < 18:\n",
    "        weights = [0.4, 0.6]\n",
    "        prices = [0, random.choices(population = [1.5, 2, 3], weights = [0.4, 0.3, 0.3], k = 1)[0]]\n",
    "        maxs = [2, random.choices(population = [1.5, 2, 3, 4], weights = [0.4, 0.3, 0.2, 0.1], k = 1)[0]]\n",
    "    elif 18 <= i and i < 20:\n",
    "        weights = [0.5, 0.5]\n",
    "        prices = [0, random.choices(population = [1.25, 1.5, 3], weights = [0.4, 0.3, 0.3], k = 1)[0]]\n",
    "        maxs = [2, random.choices(population = [1.5, 2, 3, 4], weights = [0.4, 0.3, 0.2, 0.1], k = 1)[0]]\n",
    "    else:\n",
    "        weights = [0, 1]\n",
    "        prices = [0, random.choices(population = [2, 2.5, 3], weights = [0.4, 0.3, 0.3], k = 1)[0]]\n",
    "        maxs = [2, random.choices(population = [1.5, 2, 3, 4], weights = [0.4, 0.3, 0.2, 0.1], k = 1)[0]]\n",
    "    acv = random.choices(population = [2, 3, 4], weights = [0.4, 0.3, 0.3], k = 1)[0]\n",
    "    for _ in range(ac):\n",
    "        parking_type.append('accessible')\n",
    "        price.append(0)\n",
    "        max_stay.append(acv)\n",
    "    for _ in range(c - ac):\n",
    "        v = random.choices(population = ['free', 'pay'], weights = weights, k = 1)[0]\n",
    "        if v == 'free':\n",
    "            p = prices[0]\n",
    "            ms = maxs[0]\n",
    "        else:\n",
    "            p = prices[1]\n",
    "            ms = maxs[1]\n",
    "        parking_type.append(v)\n",
    "        price.append(p)\n",
    "        max_stay.append(ms)"
   ]
  },
  {
   "cell_type": "code",
   "execution_count": 13,
   "id": "e72af6a1-8d73-4fa7-9f82-e4329b483fe6",
   "metadata": {},
   "outputs": [],
   "source": [
    "def generate_spots(lid_s, sid, parking_type, lat, long, max_stay, price):\n",
    "    res = []\n",
    "    for i in range(len(lid_s)):\n",
    "        res.append((lid_s[i], sid[i], parking_type[i], lat[i], long[i], max_stay[i], price[i]))\n",
    "    return res"
   ]
  },
  {
   "cell_type": "markdown",
   "id": "a4bf860c-b50e-46ab-979e-810a632db011",
   "metadata": {},
   "source": [
    "# Export"
   ]
  },
  {
   "cell_type": "code",
   "execution_count": 14,
   "id": "738b6569-14b6-485d-9ca0-a95f78f8c357",
   "metadata": {},
   "outputs": [],
   "source": [
    "users = generate_users(1000)\n",
    "lots = generate_lots(lids, areas, adds, lnames, capas, like_num)\n",
    "spots = generate_spots(lid_s, sid, parking_type, lat, long, max_stay, price)"
   ]
  },
  {
   "cell_type": "code",
   "execution_count": 15,
   "id": "d4ddcbce-ad2c-4190-8b39-254a5823ca92",
   "metadata": {},
   "outputs": [],
   "source": [
    "headers_u = ['uid', 'username', 'password', 'email', 'phone', 'identity', 'booking_num', 'is_accessible']\n",
    "headers_l = ['lid', 'area', 'address', 'lot_name', 'capacity', 'like_num']\n",
    "header_s = ['lid', 'sid', 'parking_type', 'latitude', 'longitude', 'max_stay', 'price']"
   ]
  },
  {
   "cell_type": "code",
   "execution_count": 16,
   "id": "1bfd1bf7-e008-492a-b38e-b387ecd7c50a",
   "metadata": {},
   "outputs": [],
   "source": [
    "user_df = pd.DataFrame(users, columns = headers_u)\n",
    "lot_df = pd.DataFrame(lots, columns = headers_l)\n",
    "spot_df = pd.DataFrame(spots, columns = header_s)"
   ]
  },
  {
   "cell_type": "code",
   "execution_count": 17,
   "id": "9ad5f4a0-7ab2-407f-aa0d-762b01c2cc06",
   "metadata": {},
   "outputs": [],
   "source": [
    "# Function to generate expiry date\n",
    "def generate_expiry_date(expired = False):\n",
    "    baseline_date = datetime(2024, 7, 25)\n",
    "    if expired:\n",
    "        return baseline_date - timedelta(days=random.randint(1, 365))\n",
    "    else:\n",
    "        return baseline_date + timedelta(days=random.randint(1, 365))"
   ]
  },
  {
   "cell_type": "code",
   "execution_count": 18,
   "id": "23c7a8b4-9976-4ef5-a9f4-cdf58dd8172b",
   "metadata": {},
   "outputs": [],
   "source": [
    "# Filter the users with identity as 'student' or 'staff'\n",
    "filtered_df = user_df.loc[user_df['identity'].isin(['student', 'staff'])].copy()\n",
    "filtered_df['type'] = filtered_df['identity']\n",
    "# Generate expiry dates with 80% not expired and 20% expired\n",
    "filtered_df['expiry_date'] = filtered_df.apply(lambda x: generate_expiry_date(expired=random.random() < 0.2), axis=1)\n",
    "filtered_df['expiry_date'] = filtered_df['expiry_date'].apply(lambda x: x.strftime('%Y-%m-%d %H:%M:%S'))\n",
    "\n",
    "permit_holders_df = filtered_df[['uid', 'type', 'expiry_date']]\n",
    "permit_holders_df.columns = ['uid', 'type', 'expiry_date']"
   ]
  },
  {
   "cell_type": "code",
   "execution_count": 19,
   "id": "1ac3e769-eb90-41ff-ba87-fdad2d5950a8",
   "metadata": {},
   "outputs": [],
   "source": [
    "#user_df.to_csv('user.txt', index=False)\n",
    "#permit_holders_df.to_csv('p_holders.txt', index=False)\n",
    "#lot_df.to_csv('lots_CW.txt', index=False)\n",
    "#spot_df.to_csv('spots_CW.txt', index=False)"
   ]
  }
 ],
 "metadata": {
  "kernelspec": {
   "display_name": "venv",
   "language": "python",
   "name": "venv"
  },
  "language_info": {
   "codemirror_mode": {
    "name": "ipython",
    "version": 3
   },
   "file_extension": ".py",
   "mimetype": "text/x-python",
   "name": "python",
   "nbconvert_exporter": "python",
   "pygments_lexer": "ipython3",
   "version": "3.12.1"
  }
 },
 "nbformat": 4,
 "nbformat_minor": 5
}
